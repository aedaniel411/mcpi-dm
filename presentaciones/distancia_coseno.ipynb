{
 "cells": [
  {
   "cell_type": "markdown",
   "id": "01be1524-4810-4034-be83-5a892c4ee7a4",
   "metadata": {
    "editable": true,
    "slideshow": {
     "slide_type": ""
    },
    "tags": []
   },
   "source": [
    "# Distancia Coseno\n",
    "> Daniel Acosta\n",
    "- Mide el **ángulo entre dos vectores**.\n",
    "- Útil cuando importa la **dirección** más que la magnitud.\n",
    "- Común en minería de texto y sistemas de recomendación.\n",
    "\n",
    "\n"
   ]
  },
  {
   "cell_type": "markdown",
   "id": "75b8100f-d038-494a-8c84-b6baf3312b06",
   "metadata": {
    "editable": true,
    "slideshow": {
     "slide_type": ""
    },
    "tags": []
   },
   "source": [
    "## Elementos\n",
    "- [Suma de vectores](https://www.geogebra.org/m/fhYh9Sqp)\n",
    "- [Función trigonometrica](https://www.geogebra.org/m/HdnfNmwA): $\\text{coseno}(\\theta)=\\frac{\\text{cateto adyacente}}{\\text{hipotenusa}}$\n"
   ]
  },
  {
   "cell_type": "markdown",
   "id": "41ded83a-3ee8-448f-bb76-7f548c83e3e5",
   "metadata": {
    "editable": true,
    "slideshow": {
     "slide_type": ""
    },
    "tags": []
   },
   "source": [
    "## ¿Cómo se calcula la distancia?"
   ]
  },
  {
   "cell_type": "markdown",
   "id": "7bd9b6db-d9b3-4237-ac40-3b08cf8e78ff",
   "metadata": {},
   "source": [
    "$$d(x, y) = 1 - \\text{coseno}(x, y)$$"
   ]
  },
  {
   "cell_type": "markdown",
   "id": "aa52c4af-c7ab-4ced-acca-332cadfc0f96",
   "metadata": {},
   "source": [
    "$$\\text{coseno}(x, y) = \\frac{x \\cdot y}{\\|x\\| \\|y\\|}$$"
   ]
  },
  {
   "cell_type": "markdown",
   "id": "9597004d-ef41-4036-b33e-23d6ff7be071",
   "metadata": {},
   "source": [
    "## Ejemplos en Python"
   ]
  },
  {
   "cell_type": "code",
   "execution_count": 1,
   "id": "cee4512c-107a-4ed6-8c94-2aaa03964270",
   "metadata": {},
   "outputs": [],
   "source": [
    "import numpy as np"
   ]
  },
  {
   "cell_type": "markdown",
   "id": "773a8deb-3849-4f06-b569-6b41fa03605b",
   "metadata": {},
   "source": [
    "### Ejemplo 1\n",
    "\n",
    "Tenemos dos vectores:\n",
    "\n",
    "$$\n",
    "x = (2, 3) \\quad y = (4, 1)\n",
    "$$\n"
   ]
  },
  {
   "cell_type": "code",
   "execution_count": 2,
   "id": "ff67d42f-cedc-41cc-8e95-9229c8f16cc6",
   "metadata": {},
   "outputs": [],
   "source": [
    "x = np.array([2, 3])\n",
    "y = np.array([4, 1])"
   ]
  },
  {
   "cell_type": "markdown",
   "id": "5d74f62f-714b-4e94-9d90-467638a6e6dc",
   "metadata": {},
   "source": [
    "#### Producto punto\n",
    "\n",
    "$$\n",
    "x \\cdot y = (2 \\times 4) + (3 \\times 1) = 11\n",
    "$$"
   ]
  },
  {
   "cell_type": "code",
   "execution_count": 3,
   "id": "166f589c-5dd9-4ec9-a8aa-1e1b3a81c1ba",
   "metadata": {},
   "outputs": [
    {
     "data": {
      "text/plain": [
       "np.int64(11)"
      ]
     },
     "execution_count": 3,
     "metadata": {},
     "output_type": "execute_result"
    }
   ],
   "source": [
    "sum(x * y)"
   ]
  },
  {
   "cell_type": "code",
   "execution_count": 4,
   "id": "4ba2fb81-d34d-4dfb-a8ea-53cf62bbaf2f",
   "metadata": {},
   "outputs": [
    {
     "data": {
      "text/plain": [
       "np.int64(11)"
      ]
     },
     "execution_count": 4,
     "metadata": {},
     "output_type": "execute_result"
    }
   ],
   "source": [
    "x @ y"
   ]
  },
  {
   "cell_type": "code",
   "execution_count": 5,
   "id": "2cddee55-16fa-4234-ab8f-b8a3a493ffce",
   "metadata": {},
   "outputs": [
    {
     "data": {
      "text/plain": [
       "np.int64(11)"
      ]
     },
     "execution_count": 5,
     "metadata": {},
     "output_type": "execute_result"
    }
   ],
   "source": [
    "np.dot(x, y)"
   ]
  },
  {
   "cell_type": "code",
   "execution_count": 6,
   "id": "caf75f38-35a6-4b38-bf57-384bf370c329",
   "metadata": {},
   "outputs": [],
   "source": [
    "producto_punto = np.dot(x, y)"
   ]
  },
  {
   "cell_type": "markdown",
   "id": "175eec46-d28f-470c-a39e-86b066f574c2",
   "metadata": {},
   "source": [
    "#### Normas\n",
    "\n",
    "$$\n",
    "\\|x\\| = \\sqrt{2^2 + 3^2} = \\sqrt{13} \\approx 3.603\n",
    "$$\n",
    "\n",
    "$$\n",
    "\\|y\\| = \\sqrt{4^2 + 1^2} = \\sqrt{17} \\approx 4.123\n",
    "$$"
   ]
  },
  {
   "cell_type": "code",
   "execution_count": 7,
   "id": "cf4770ee-2d14-4d77-bd6f-7c8ed83e1922",
   "metadata": {},
   "outputs": [
    {
     "name": "stdout",
     "output_type": "stream",
     "text": [
      "3.605551275463989\n",
      "4.123105625617661\n"
     ]
    }
   ],
   "source": [
    "print (np.sqrt(sum(x**2)))\n",
    "print (np.sqrt(sum(y**2)))"
   ]
  },
  {
   "cell_type": "code",
   "execution_count": 8,
   "id": "b0e020f8-ec0b-4841-a929-0d04936470ae",
   "metadata": {},
   "outputs": [
    {
     "name": "stdout",
     "output_type": "stream",
     "text": [
      "3.605551275463989\n",
      "4.123105625617661\n"
     ]
    }
   ],
   "source": [
    "print(np.linalg.norm(x))\n",
    "print(np.linalg.norm(y))"
   ]
  },
  {
   "cell_type": "code",
   "execution_count": 9,
   "id": "c530ef08-d685-476c-98f5-9b53c1e5b71f",
   "metadata": {},
   "outputs": [],
   "source": [
    "norma_x = np.linalg.norm(x)\n",
    "norma_y = np.linalg.norm(y)"
   ]
  },
  {
   "cell_type": "markdown",
   "id": "ffe15f2b-7b6b-4fc8-a337-77cc950d3512",
   "metadata": {},
   "source": [
    "#### Similitud coseno\n",
    "$$\n",
    "\\text{coseno}(x, y) = \\frac{11}{\\sqrt{13} \\times \\sqrt{17}} \\approx 0.739\n",
    "$$"
   ]
  },
  {
   "cell_type": "code",
   "execution_count": 10,
   "id": "90982c4f-5c5e-4738-96f1-76b562adf390",
   "metadata": {},
   "outputs": [
    {
     "name": "stdout",
     "output_type": "stream",
     "text": [
      "0.7399400733959438\n"
     ]
    }
   ],
   "source": [
    "coseno = producto_punto / (norma_x * norma_y)\n",
    "print(coseno)"
   ]
  },
  {
   "cell_type": "code",
   "execution_count": 11,
   "id": "ca08015a-aeac-4fb5-8f8e-09eaa62bc022",
   "metadata": {},
   "outputs": [],
   "source": [
    "def fcoseno(x,y):\n",
    "    return np.dot(x, y) / ( np.linalg.norm(x) *  np.linalg.norm(y))"
   ]
  },
  {
   "cell_type": "code",
   "execution_count": 12,
   "id": "9983dbf9-dc64-476d-a361-bb21fa16f39f",
   "metadata": {},
   "outputs": [
    {
     "name": "stdout",
     "output_type": "stream",
     "text": [
      "0.7399400733959438\n"
     ]
    }
   ],
   "source": [
    "print (fcoseno(x,y))"
   ]
  },
  {
   "cell_type": "markdown",
   "id": "de56bf7f-a849-4a32-9b81-60fc5884fb5a",
   "metadata": {},
   "source": [
    "#### Distancia coseno\n",
    "\n",
    "$$\n",
    "d(x, y) = 1 - 0.7339 \\approx 0.26\n",
    "$$"
   ]
  },
  {
   "cell_type": "code",
   "execution_count": 13,
   "id": "a7855999-c113-41c6-89fe-a78d13a93578",
   "metadata": {},
   "outputs": [
    {
     "name": "stdout",
     "output_type": "stream",
     "text": [
      "0.2600599266040562\n"
     ]
    }
   ],
   "source": [
    "print (1- coseno)"
   ]
  },
  {
   "cell_type": "code",
   "execution_count": 14,
   "id": "5f533b84-3e57-4470-8dea-5b53735e6541",
   "metadata": {},
   "outputs": [],
   "source": [
    "def fdcoseno(x,y):\n",
    "    return 1 - fcoseno(x,y)"
   ]
  },
  {
   "cell_type": "code",
   "execution_count": 15,
   "id": "1025fae6-0054-49a7-a863-636a9544c867",
   "metadata": {},
   "outputs": [
    {
     "name": "stdout",
     "output_type": "stream",
     "text": [
      "0.2600599266040562\n"
     ]
    }
   ],
   "source": [
    "print (fdcoseno(x,y))"
   ]
  },
  {
   "cell_type": "markdown",
   "id": "12c12304-5230-45d1-b402-8d31816aeaf7",
   "metadata": {},
   "source": [
    "### Ejemplo 2\n",
    "Tenemos los vectores:\n",
    "$$\n",
    "x = (3, 2, 0, 5) \\quad \\text{y} \\quad y = (1, 0, 0, 0)\n",
    "$$"
   ]
  },
  {
   "cell_type": "code",
   "execution_count": 16,
   "id": "15f69d32-ea24-4b92-ae81-b2d4c57cc20f",
   "metadata": {},
   "outputs": [],
   "source": [
    "x = np.array([3, 2, 0, 5])\n",
    "y = np.array([1, 0, 0, 0])"
   ]
  },
  {
   "cell_type": "markdown",
   "id": "b4ab4653-6f39-463e-a02f-6654bd0a7b3a",
   "metadata": {},
   "source": [
    "#### Producto punto\n",
    "$$\n",
    "x \\cdot y = (3 \\times 1) + (2 \\times 0) + (0 \\times 0) + (5 \\times 0) = 3\n",
    "$$"
   ]
  },
  {
   "cell_type": "code",
   "execution_count": 17,
   "id": "dfa6398d-2421-4000-a163-bfa03f7b46d4",
   "metadata": {},
   "outputs": [
    {
     "name": "stdout",
     "output_type": "stream",
     "text": [
      "3\n"
     ]
    }
   ],
   "source": [
    "print(np.dot(x, y))"
   ]
  },
  {
   "cell_type": "markdown",
   "id": "2e75c449-c51f-4438-bc64-51e0f8a1af8c",
   "metadata": {},
   "source": [
    "#### Normas\n",
    "$$\n",
    "\\|x\\| = \\sqrt{3^2 + 2^2 + 0^2 + 5^2} = \\sqrt{38} \\approx 6.16\n",
    "$$\n",
    "\n",
    "$$\n",
    "\\|y\\| = \\sqrt{1^2 + 0^2 + 0^2 + 0^2} = 1\n",
    "$$"
   ]
  },
  {
   "cell_type": "code",
   "execution_count": 18,
   "id": "247e7c3b-452d-4e19-b344-ad6e17f1c17d",
   "metadata": {},
   "outputs": [
    {
     "name": "stdout",
     "output_type": "stream",
     "text": [
      "6.164414002968976\n",
      "1.0\n"
     ]
    }
   ],
   "source": [
    "print(np.linalg.norm(x))\n",
    "print(np.linalg.norm(y))"
   ]
  },
  {
   "cell_type": "markdown",
   "id": "bb5e1269-7b54-49eb-abb1-3e98ee2d7f53",
   "metadata": {},
   "source": [
    "#### Similitud coseno\n",
    "$$\n",
    "\\text{coseno}(x, y) = \\frac{3}{\\sqrt{38} \\times 1} \\approx 0.4867\n",
    "$$"
   ]
  },
  {
   "cell_type": "code",
   "execution_count": 19,
   "id": "331dbbb2-fe9d-4127-90ce-9c358de6a3ec",
   "metadata": {},
   "outputs": [
    {
     "name": "stdout",
     "output_type": "stream",
     "text": [
      "0.48666426339228763\n"
     ]
    }
   ],
   "source": [
    "print (fcoseno(x,y))"
   ]
  },
  {
   "cell_type": "markdown",
   "id": "ab92211a-3570-4b0a-a8c9-548dbd360338",
   "metadata": {},
   "source": [
    "#### Distancia coseno\n",
    "$$\n",
    "\\text{coseno}(x, y) = \\frac{3}{\\sqrt{38} \\times 1} \\approx 0.4867\n",
    "$$"
   ]
  },
  {
   "cell_type": "code",
   "execution_count": 20,
   "id": "5d447047-d4e5-4663-873f-4c83bcf7fe67",
   "metadata": {},
   "outputs": [
    {
     "name": "stdout",
     "output_type": "stream",
     "text": [
      "0.5133357366077124\n"
     ]
    }
   ],
   "source": [
    "print (fdcoseno(x,y))"
   ]
  },
  {
   "cell_type": "markdown",
   "id": "ba8ca0f5-a41c-4dce-9437-6a698f8d658b",
   "metadata": {},
   "source": [
    "## Librerías de Python\n"
   ]
  },
  {
   "cell_type": "markdown",
   "id": "d639c2a7-81d6-4223-af6c-ca07b5cf0b15",
   "metadata": {},
   "source": [
    "### scipy\n"
   ]
  },
  {
   "cell_type": "code",
   "execution_count": 21,
   "id": "ccca08ce-7f07-4345-ade6-948fc16aaee8",
   "metadata": {},
   "outputs": [
    {
     "name": "stdout",
     "output_type": "stream",
     "text": [
      "0.5133357366077124\n"
     ]
    }
   ],
   "source": [
    "from scipy.spatial.distance import cosine\n",
    "\n",
    "x = np.array([3, 2, 0, 5])\n",
    "y = np.array([1, 0, 0, 0])\n",
    "\n",
    "distancia = cosine(x, y)\n",
    "\n",
    "print(distancia)\n"
   ]
  },
  {
   "cell_type": "markdown",
   "id": "e47b3322-0f3b-4818-85cb-c355474edc89",
   "metadata": {},
   "source": [
    "### scikit-learn"
   ]
  },
  {
   "cell_type": "code",
   "execution_count": 22,
   "id": "2dba2a72-279c-40c0-992b-71d973f1ff79",
   "metadata": {},
   "outputs": [
    {
     "ename": "ValueError",
     "evalue": "Expected 2D array, got 1D array instead:\narray=[3. 2. 0. 5.].\nReshape your data either using array.reshape(-1, 1) if your data has a single feature or array.reshape(1, -1) if it contains a single sample.",
     "output_type": "error",
     "traceback": [
      "\u001b[31m---------------------------------------------------------------------------\u001b[39m",
      "\u001b[31mValueError\u001b[39m                                Traceback (most recent call last)",
      "\u001b[36mCell\u001b[39m\u001b[36m \u001b[39m\u001b[32mIn[22]\u001b[39m\u001b[32m, line 7\u001b[39m\n\u001b[32m      3\u001b[39m x = np.array([\u001b[32m3\u001b[39m, \u001b[32m2\u001b[39m, \u001b[32m0\u001b[39m, \u001b[32m5\u001b[39m])\n\u001b[32m      4\u001b[39m y = np.array([\u001b[32m1\u001b[39m, \u001b[32m0\u001b[39m, \u001b[32m0\u001b[39m, \u001b[32m0\u001b[39m])\n\u001b[32m----> \u001b[39m\u001b[32m7\u001b[39m \u001b[38;5;28mprint\u001b[39m (\u001b[43mcosine_similarity\u001b[49m\u001b[43m(\u001b[49m\u001b[43mx\u001b[49m\u001b[43m,\u001b[49m\u001b[43m \u001b[49m\u001b[43my\u001b[49m\u001b[43m)\u001b[49m)\n",
      "\u001b[36mFile \u001b[39m\u001b[32m~\\env-mcpi-md\\Lib\\site-packages\\sklearn\\utils\\_param_validation.py:216\u001b[39m, in \u001b[36mvalidate_params.<locals>.decorator.<locals>.wrapper\u001b[39m\u001b[34m(*args, **kwargs)\u001b[39m\n\u001b[32m    210\u001b[39m \u001b[38;5;28;01mtry\u001b[39;00m:\n\u001b[32m    211\u001b[39m     \u001b[38;5;28;01mwith\u001b[39;00m config_context(\n\u001b[32m    212\u001b[39m         skip_parameter_validation=(\n\u001b[32m    213\u001b[39m             prefer_skip_nested_validation \u001b[38;5;129;01mor\u001b[39;00m global_skip_validation\n\u001b[32m    214\u001b[39m         )\n\u001b[32m    215\u001b[39m     ):\n\u001b[32m--> \u001b[39m\u001b[32m216\u001b[39m         \u001b[38;5;28;01mreturn\u001b[39;00m \u001b[43mfunc\u001b[49m\u001b[43m(\u001b[49m\u001b[43m*\u001b[49m\u001b[43margs\u001b[49m\u001b[43m,\u001b[49m\u001b[43m \u001b[49m\u001b[43m*\u001b[49m\u001b[43m*\u001b[49m\u001b[43mkwargs\u001b[49m\u001b[43m)\u001b[49m\n\u001b[32m    217\u001b[39m \u001b[38;5;28;01mexcept\u001b[39;00m InvalidParameterError \u001b[38;5;28;01mas\u001b[39;00m e:\n\u001b[32m    218\u001b[39m     \u001b[38;5;66;03m# When the function is just a wrapper around an estimator, we allow\u001b[39;00m\n\u001b[32m    219\u001b[39m     \u001b[38;5;66;03m# the function to delegate validation to the estimator, but we replace\u001b[39;00m\n\u001b[32m    220\u001b[39m     \u001b[38;5;66;03m# the name of the estimator by the name of the function in the error\u001b[39;00m\n\u001b[32m    221\u001b[39m     \u001b[38;5;66;03m# message to avoid confusion.\u001b[39;00m\n\u001b[32m    222\u001b[39m     msg = re.sub(\n\u001b[32m    223\u001b[39m         \u001b[33mr\u001b[39m\u001b[33m\"\u001b[39m\u001b[33mparameter of \u001b[39m\u001b[33m\\\u001b[39m\u001b[33mw+ must be\u001b[39m\u001b[33m\"\u001b[39m,\n\u001b[32m    224\u001b[39m         \u001b[33mf\u001b[39m\u001b[33m\"\u001b[39m\u001b[33mparameter of \u001b[39m\u001b[38;5;132;01m{\u001b[39;00mfunc.\u001b[34m__qualname__\u001b[39m\u001b[38;5;132;01m}\u001b[39;00m\u001b[33m must be\u001b[39m\u001b[33m\"\u001b[39m,\n\u001b[32m    225\u001b[39m         \u001b[38;5;28mstr\u001b[39m(e),\n\u001b[32m    226\u001b[39m     )\n",
      "\u001b[36mFile \u001b[39m\u001b[32m~\\env-mcpi-md\\Lib\\site-packages\\sklearn\\metrics\\pairwise.py:1741\u001b[39m, in \u001b[36mcosine_similarity\u001b[39m\u001b[34m(X, Y, dense_output)\u001b[39m\n\u001b[32m   1695\u001b[39m \u001b[38;5;250m\u001b[39m\u001b[33;03m\"\"\"Compute cosine similarity between samples in X and Y.\u001b[39;00m\n\u001b[32m   1696\u001b[39m \n\u001b[32m   1697\u001b[39m \u001b[33;03mCosine similarity, or the cosine kernel, computes similarity as the\u001b[39;00m\n\u001b[32m   (...)\u001b[39m\u001b[32m   1737\u001b[39m \u001b[33;03m       [0.57..., 0.81...]])\u001b[39;00m\n\u001b[32m   1738\u001b[39m \u001b[33;03m\"\"\"\u001b[39;00m\n\u001b[32m   1739\u001b[39m \u001b[38;5;66;03m# to avoid recursive import\u001b[39;00m\n\u001b[32m-> \u001b[39m\u001b[32m1741\u001b[39m X, Y = \u001b[43mcheck_pairwise_arrays\u001b[49m\u001b[43m(\u001b[49m\u001b[43mX\u001b[49m\u001b[43m,\u001b[49m\u001b[43m \u001b[49m\u001b[43mY\u001b[49m\u001b[43m)\u001b[49m\n\u001b[32m   1743\u001b[39m X_normalized = normalize(X, copy=\u001b[38;5;28;01mTrue\u001b[39;00m)\n\u001b[32m   1744\u001b[39m \u001b[38;5;28;01mif\u001b[39;00m X \u001b[38;5;129;01mis\u001b[39;00m Y:\n",
      "\u001b[36mFile \u001b[39m\u001b[32m~\\env-mcpi-md\\Lib\\site-packages\\sklearn\\metrics\\pairwise.py:200\u001b[39m, in \u001b[36mcheck_pairwise_arrays\u001b[39m\u001b[34m(X, Y, precomputed, dtype, accept_sparse, force_all_finite, ensure_all_finite, ensure_2d, copy)\u001b[39m\n\u001b[32m    190\u001b[39m     X = Y = check_array(\n\u001b[32m    191\u001b[39m         X,\n\u001b[32m    192\u001b[39m         accept_sparse=accept_sparse,\n\u001b[32m   (...)\u001b[39m\u001b[32m    197\u001b[39m         ensure_2d=ensure_2d,\n\u001b[32m    198\u001b[39m     )\n\u001b[32m    199\u001b[39m \u001b[38;5;28;01melse\u001b[39;00m:\n\u001b[32m--> \u001b[39m\u001b[32m200\u001b[39m     X = \u001b[43mcheck_array\u001b[49m\u001b[43m(\u001b[49m\n\u001b[32m    201\u001b[39m \u001b[43m        \u001b[49m\u001b[43mX\u001b[49m\u001b[43m,\u001b[49m\n\u001b[32m    202\u001b[39m \u001b[43m        \u001b[49m\u001b[43maccept_sparse\u001b[49m\u001b[43m=\u001b[49m\u001b[43maccept_sparse\u001b[49m\u001b[43m,\u001b[49m\n\u001b[32m    203\u001b[39m \u001b[43m        \u001b[49m\u001b[43mdtype\u001b[49m\u001b[43m=\u001b[49m\u001b[43mdtype\u001b[49m\u001b[43m,\u001b[49m\n\u001b[32m    204\u001b[39m \u001b[43m        \u001b[49m\u001b[43mcopy\u001b[49m\u001b[43m=\u001b[49m\u001b[43mcopy\u001b[49m\u001b[43m,\u001b[49m\n\u001b[32m    205\u001b[39m \u001b[43m        \u001b[49m\u001b[43mensure_all_finite\u001b[49m\u001b[43m=\u001b[49m\u001b[43mensure_all_finite\u001b[49m\u001b[43m,\u001b[49m\n\u001b[32m    206\u001b[39m \u001b[43m        \u001b[49m\u001b[43mestimator\u001b[49m\u001b[43m=\u001b[49m\u001b[43mestimator\u001b[49m\u001b[43m,\u001b[49m\n\u001b[32m    207\u001b[39m \u001b[43m        \u001b[49m\u001b[43mensure_2d\u001b[49m\u001b[43m=\u001b[49m\u001b[43mensure_2d\u001b[49m\u001b[43m,\u001b[49m\n\u001b[32m    208\u001b[39m \u001b[43m    \u001b[49m\u001b[43m)\u001b[49m\n\u001b[32m    209\u001b[39m     Y = check_array(\n\u001b[32m    210\u001b[39m         Y,\n\u001b[32m    211\u001b[39m         accept_sparse=accept_sparse,\n\u001b[32m   (...)\u001b[39m\u001b[32m    216\u001b[39m         ensure_2d=ensure_2d,\n\u001b[32m    217\u001b[39m     )\n\u001b[32m    219\u001b[39m \u001b[38;5;28;01mif\u001b[39;00m precomputed:\n",
      "\u001b[36mFile \u001b[39m\u001b[32m~\\env-mcpi-md\\Lib\\site-packages\\sklearn\\utils\\validation.py:1093\u001b[39m, in \u001b[36mcheck_array\u001b[39m\u001b[34m(array, accept_sparse, accept_large_sparse, dtype, order, copy, force_writeable, force_all_finite, ensure_all_finite, ensure_non_negative, ensure_2d, allow_nd, ensure_min_samples, ensure_min_features, estimator, input_name)\u001b[39m\n\u001b[32m   1086\u001b[39m         \u001b[38;5;28;01melse\u001b[39;00m:\n\u001b[32m   1087\u001b[39m             msg = (\n\u001b[32m   1088\u001b[39m                 \u001b[33mf\u001b[39m\u001b[33m\"\u001b[39m\u001b[33mExpected 2D array, got 1D array instead:\u001b[39m\u001b[38;5;130;01m\\n\u001b[39;00m\u001b[33marray=\u001b[39m\u001b[38;5;132;01m{\u001b[39;00marray\u001b[38;5;132;01m}\u001b[39;00m\u001b[33m.\u001b[39m\u001b[38;5;130;01m\\n\u001b[39;00m\u001b[33m\"\u001b[39m\n\u001b[32m   1089\u001b[39m                 \u001b[33m\"\u001b[39m\u001b[33mReshape your data either using array.reshape(-1, 1) if \u001b[39m\u001b[33m\"\u001b[39m\n\u001b[32m   1090\u001b[39m                 \u001b[33m\"\u001b[39m\u001b[33myour data has a single feature or array.reshape(1, -1) \u001b[39m\u001b[33m\"\u001b[39m\n\u001b[32m   1091\u001b[39m                 \u001b[33m\"\u001b[39m\u001b[33mif it contains a single sample.\u001b[39m\u001b[33m\"\u001b[39m\n\u001b[32m   1092\u001b[39m             )\n\u001b[32m-> \u001b[39m\u001b[32m1093\u001b[39m         \u001b[38;5;28;01mraise\u001b[39;00m \u001b[38;5;167;01mValueError\u001b[39;00m(msg)\n\u001b[32m   1095\u001b[39m \u001b[38;5;28;01mif\u001b[39;00m dtype_numeric \u001b[38;5;129;01mand\u001b[39;00m \u001b[38;5;28mhasattr\u001b[39m(array.dtype, \u001b[33m\"\u001b[39m\u001b[33mkind\u001b[39m\u001b[33m\"\u001b[39m) \u001b[38;5;129;01mand\u001b[39;00m array.dtype.kind \u001b[38;5;129;01min\u001b[39;00m \u001b[33m\"\u001b[39m\u001b[33mUSV\u001b[39m\u001b[33m\"\u001b[39m:\n\u001b[32m   1096\u001b[39m     \u001b[38;5;28;01mraise\u001b[39;00m \u001b[38;5;167;01mValueError\u001b[39;00m(\n\u001b[32m   1097\u001b[39m         \u001b[33m\"\u001b[39m\u001b[33mdtype=\u001b[39m\u001b[33m'\u001b[39m\u001b[33mnumeric\u001b[39m\u001b[33m'\u001b[39m\u001b[33m is not compatible with arrays of bytes/strings.\u001b[39m\u001b[33m\"\u001b[39m\n\u001b[32m   1098\u001b[39m         \u001b[33m\"\u001b[39m\u001b[33mConvert your data to numeric values explicitly instead.\u001b[39m\u001b[33m\"\u001b[39m\n\u001b[32m   1099\u001b[39m     )\n",
      "\u001b[31mValueError\u001b[39m: Expected 2D array, got 1D array instead:\narray=[3. 2. 0. 5.].\nReshape your data either using array.reshape(-1, 1) if your data has a single feature or array.reshape(1, -1) if it contains a single sample."
     ]
    }
   ],
   "source": [
    "from sklearn.metrics.pairwise import cosine_similarity\n",
    "\n",
    "x = np.array([3, 2, 0, 5])\n",
    "y = np.array([1, 0, 0, 0])\n",
    "\n",
    "\n",
    "print (cosine_similarity(x, y))\n"
   ]
  },
  {
   "cell_type": "code",
   "execution_count": null,
   "id": "1518bf5e-aedb-4d92-9262-5f80c236e0e0",
   "metadata": {},
   "outputs": [],
   "source": [
    "cosine_similarity?"
   ]
  },
  {
   "cell_type": "code",
   "execution_count": 23,
   "id": "560cdfa1-151a-4a5e-ab15-140f01204bf8",
   "metadata": {},
   "outputs": [
    {
     "name": "stdout",
     "output_type": "stream",
     "text": [
      "[[0.48666426]]\n"
     ]
    }
   ],
   "source": [
    "\n",
    "\n",
    "x = np.array([[3, 2, 0, 5]])\n",
    "y = np.array([[1, 0, 0, 0]])\n",
    "\n",
    "\n",
    "print (cosine_similarity(x, y))"
   ]
  },
  {
   "cell_type": "code",
   "execution_count": 24,
   "id": "d14de342-f5d3-467f-9d55-24b2fdc5cd30",
   "metadata": {},
   "outputs": [
    {
     "name": "stdout",
     "output_type": "stream",
     "text": [
      "[[0.51333574]]\n"
     ]
    }
   ],
   "source": [
    "print (1 - cosine_similarity(x, y))"
   ]
  },
  {
   "cell_type": "markdown",
   "id": "6289412f-e103-47b7-a680-1f54a02d91eb",
   "metadata": {},
   "source": [
    "## Comparando frases\n",
    "\n",
    "[Los siete samuráis 1954](https://www.imdb.com/es/title/tt0047478/?ref_=nv_sr_srsg_0_tt_8_nm_0_in_0_q_7%2520samu) : \"Un pobre pueblo bajo la amenaza de unos bandidos recluta a siete samuráis para ayudarles a defenderse.\"\n",
    "\n",
    "[Los siete magníficos 1960](https://www.imdb.com/es/title/tt0054047/?ref_=nv_sr_srsg_3_tt_8_nm_0_in_0_q_siete%2520magnificos) : \"Un pueblo campesino mexicano contrata a siete pistoleros para que protejan sus hogares.\"\n",
    "\n",
    "[Los siete magníficos 2016](https://www.imdb.com/es/title/tt2404435/?ref_=nv_sr_srsg_0_tt_8_nm_0_in_0_q_los%2520siete%2520ma) : \"Siete pistoleros del antiguo oeste forman equipo para ayudar a un pobre pueblo contra unos ladrones salvajes.\""
   ]
  },
  {
   "cell_type": "code",
   "execution_count": 25,
   "id": "38831995-497c-4f37-a0e3-89a8f421637f",
   "metadata": {},
   "outputs": [],
   "source": [
    "from sklearn.feature_extraction.text import CountVectorizer\n",
    "from sklearn.metrics.pairwise import cosine_similarity\n",
    "\n",
    "frases = [ \"Un pobre pueblo bajo la amenaza de unos bandidos recluta a siete samuráis para ayudarles a defenderse\",\n",
    "          \"Un pueblo campesino mexicano contrata a siete pistoleros para que protejan sus hogares\",\n",
    "          \"Siete pistoleros del antiguo oeste forman equipo para ayudar a un pobre pueblo contra unos ladrones salvajes\"\n",
    "         ]"
   ]
  },
  {
   "cell_type": "markdown",
   "id": "2c0f07e9-c3b4-4c3b-be1c-3a1910b44435",
   "metadata": {},
   "source": [
    "Convertir texto a vectores (bolsa de palabras)"
   ]
  },
  {
   "cell_type": "code",
   "execution_count": 27,
   "id": "a0e73a27-69eb-4e7e-89e7-e3a3e62f25f6",
   "metadata": {},
   "outputs": [
    {
     "data": {
      "text/plain": [
       "<Compressed Sparse Row sparse matrix of dtype 'int64'\n",
       "\twith 43 stored elements and shape (3, 32)>"
      ]
     },
     "execution_count": 27,
     "metadata": {},
     "output_type": "execute_result"
    }
   ],
   "source": [
    "vectorizador = CountVectorizer()\n",
    "X = vectorizador.fit_transform(frases)\n",
    "X"
   ]
  },
  {
   "cell_type": "markdown",
   "id": "fc8a2387-3864-4735-ba41-b9489f6feb95",
   "metadata": {},
   "source": [
    "Mostrar vectores (bolsas de palabras)"
   ]
  },
  {
   "cell_type": "code",
   "execution_count": 29,
   "id": "6ee458e7-9e8f-471d-95ad-3f8036e0f0dd",
   "metadata": {},
   "outputs": [
    {
     "name": "stdout",
     "output_type": "stream",
     "text": [
      "Vocabulario: ['amenaza' 'antiguo' 'ayudar' 'ayudarles' 'bajo' 'bandidos' 'campesino'\n",
      " 'contra' 'contrata' 'de' 'defenderse' 'del' 'equipo' 'forman' 'hogares'\n",
      " 'la' 'ladrones' 'mexicano' 'oeste' 'para' 'pistoleros' 'pobre' 'protejan'\n",
      " 'pueblo' 'que' 'recluta' 'salvajes' 'samuráis' 'siete' 'sus' 'un' 'unos']\n",
      "Matriz de vectores:\n",
      " [[1 0 0 1 1 1 0 0 0 1 1 0 0 0 0 1 0 0 0 1 0 1 0 1 0 1 0 1 1 0 1 1]\n",
      " [0 0 0 0 0 0 1 0 1 0 0 0 0 0 1 0 0 1 0 1 1 0 1 1 1 0 0 0 1 1 1 0]\n",
      " [0 1 1 0 0 0 0 1 0 0 0 1 1 1 0 0 1 0 1 1 1 1 0 1 0 0 1 0 1 0 1 1]]\n"
     ]
    }
   ],
   "source": [
    "print(\"Vocabulario:\", vectorizador.get_feature_names_out())\n",
    "print(\"Matriz de vectores:\\n\", X.toarray())"
   ]
  },
  {
   "cell_type": "markdown",
   "id": "3dda2935-338a-4bf1-bca9-cbf26c54aab2",
   "metadata": {},
   "source": [
    "Calcular similitud coseno"
   ]
  },
  {
   "cell_type": "code",
   "execution_count": 30,
   "id": "c312dfc4-50d7-45a3-98f0-25e05a0a43b9",
   "metadata": {},
   "outputs": [
    {
     "name": "stdout",
     "output_type": "stream",
     "text": [
      "\n",
      "Matriz de similitud coseno:\n",
      "[[1.         0.2981424  0.38729833]\n",
      " [0.2981424  1.         0.36084392]\n",
      " [0.38729833 0.36084392 1.        ]]\n"
     ]
    }
   ],
   "source": [
    "similitud = cosine_similarity(X)\n",
    "\n",
    "print(f\"\\nMatriz de similitud coseno:\\n{similitud}\")\n"
   ]
  },
  {
   "cell_type": "code",
   "execution_count": 31,
   "id": "3fd21497-7159-4812-aec0-b158c19a8d14",
   "metadata": {},
   "outputs": [
    {
     "name": "stdout",
     "output_type": "stream",
     "text": [
      "\n",
      "Matriz de distancias coseno:\n",
      "[[ 2.22044605e-16  7.01857603e-01  6.12701665e-01]\n",
      " [ 7.01857603e-01 -2.22044605e-16  6.39156082e-01]\n",
      " [ 6.12701665e-01  6.39156082e-01  0.00000000e+00]]\n"
     ]
    }
   ],
   "source": [
    "distancia = 1 - similitud\n",
    "\n",
    "print(f\"\\nMatriz de distancias coseno:\\n{distancia}\")"
   ]
  },
  {
   "cell_type": "markdown",
   "id": "bc6cacde-f907-4aee-9b2b-5a4fc5a3f4b9",
   "metadata": {},
   "source": [
    "## Comparando frases 2"
   ]
  },
  {
   "cell_type": "code",
   "execution_count": 32,
   "id": "98d8fba8-0e67-401e-b9c4-3a6ead10dec7",
   "metadata": {},
   "outputs": [],
   "source": [
    "frases = [ \"Más vale tarde que nunca\",\n",
    "          \"Es mejor llegar tarde que no llegar\"\n",
    "         ]"
   ]
  },
  {
   "cell_type": "code",
   "execution_count": 34,
   "id": "246dde73-7bee-47f8-bed9-1e48dd329e43",
   "metadata": {},
   "outputs": [
    {
     "data": {
      "text/plain": [
       "<Compressed Sparse Row sparse matrix of dtype 'int64'\n",
       "\twith 11 stored elements and shape (2, 9)>"
      ]
     },
     "execution_count": 34,
     "metadata": {},
     "output_type": "execute_result"
    }
   ],
   "source": [
    "vectorizador = CountVectorizer()\n",
    "X = vectorizador.fit_transform(frases)\n",
    "X"
   ]
  },
  {
   "cell_type": "code",
   "execution_count": 35,
   "id": "1e67a09b-259b-4b3a-8ff1-608f5049dd2e",
   "metadata": {},
   "outputs": [
    {
     "name": "stdout",
     "output_type": "stream",
     "text": [
      "Vocabulario: ['es' 'llegar' 'mejor' 'más' 'no' 'nunca' 'que' 'tarde' 'vale']\n",
      "Matriz de vectores:\n",
      " [[0 0 0 1 0 1 1 1 1]\n",
      " [1 2 1 0 1 0 1 1 0]]\n"
     ]
    }
   ],
   "source": [
    "print(\"Vocabulario:\", vectorizador.get_feature_names_out())\n",
    "print(\"Matriz de vectores:\\n\", X.toarray())"
   ]
  },
  {
   "cell_type": "code",
   "execution_count": 36,
   "id": "bdd78550-97bf-4d13-88fa-5751f9853e1b",
   "metadata": {},
   "outputs": [
    {
     "name": "stdout",
     "output_type": "stream",
     "text": [
      "\n",
      "Matriz de similitud coseno:\n",
      "[[1.        0.2981424]\n",
      " [0.2981424 1.       ]]\n"
     ]
    }
   ],
   "source": [
    "similitud = cosine_similarity(X)\n",
    "\n",
    "print(f\"\\nMatriz de similitud coseno:\\n{similitud}\")"
   ]
  },
  {
   "cell_type": "markdown",
   "id": "202a9398-033c-41e2-88b4-ee32a61d70de",
   "metadata": {},
   "source": [
    "### Comparando frases 3"
   ]
  },
  {
   "cell_type": "code",
   "execution_count": 38,
   "id": "95fa42b1-57fe-45f7-ad69-148ed837df64",
   "metadata": {},
   "outputs": [
    {
     "name": "stdout",
     "output_type": "stream",
     "text": [
      "Vocabulario: ['al' 'cine' 'teatro' 'vamos']\n",
      "Matriz de vectores:\n",
      " [[1 1 0 1]\n",
      " [1 0 1 1]]\n",
      "\n",
      "Matriz de similitud coseno:\n",
      "[[1.         0.66666667]\n",
      " [0.66666667 1.        ]]\n"
     ]
    }
   ],
   "source": [
    "frases = [\"Vamos al cine\",\n",
    "          \"Vamos al teatro\"\n",
    "         ]\n",
    "\n",
    "vectorizador = CountVectorizer()\n",
    "X = vectorizador.fit_transform(frases)\n",
    "\n",
    "print(\"Vocabulario:\", vectorizador.get_feature_names_out())\n",
    "print(\"Matriz de vectores:\\n\", X.toarray())\n",
    "\n",
    "similitud = cosine_similarity(X)\n",
    "\n",
    "print(f\"\\nMatriz de similitud coseno:\\n{similitud}\")"
   ]
  },
  {
   "cell_type": "markdown",
   "id": "20d92765-c8c0-45ec-ae9e-91578a4e5f52",
   "metadata": {},
   "source": [
    "### Comparando frases 4\n"
   ]
  },
  {
   "cell_type": "code",
   "execution_count": 39,
   "id": "78e6d6d6-3c8e-4e44-90da-09fe55e60afd",
   "metadata": {},
   "outputs": [
    {
     "name": "stdout",
     "output_type": "stream",
     "text": [
      "Vocabulario: ['azotea' 'el' 'en' 'gato' 'la' 'tejado' 'un']\n",
      "Matriz de vectores:\n",
      " [[0 1 1 1 0 1 1]\n",
      " [1 0 1 1 1 0 1]]\n",
      "\n",
      "Matriz de similitud coseno:\n",
      "[[1.  0.6]\n",
      " [0.6 1. ]]\n"
     ]
    }
   ],
   "source": [
    "frases = [\"Un gato en el tejado\",\n",
    "          \"Un gato en la azotea\"\n",
    "         ]\n",
    "\n",
    "vectorizador = CountVectorizer()\n",
    "X = vectorizador.fit_transform(frases)\n",
    "\n",
    "print(\"Vocabulario:\", vectorizador.get_feature_names_out())\n",
    "print(\"Matriz de vectores:\\n\", X.toarray())\n",
    "\n",
    "similitud = cosine_similarity(X)\n",
    "\n",
    "print(f\"\\nMatriz de similitud coseno:\\n{similitud}\")"
   ]
  },
  {
   "cell_type": "code",
   "execution_count": null,
   "id": "4803bb39-9359-45f3-863d-201767426628",
   "metadata": {},
   "outputs": [],
   "source": []
  }
 ],
 "metadata": {
  "kernelspec": {
   "display_name": "Python 3 (ipykernel)",
   "language": "python",
   "name": "python3"
  },
  "language_info": {
   "codemirror_mode": {
    "name": "ipython",
    "version": 3
   },
   "file_extension": ".py",
   "mimetype": "text/x-python",
   "name": "python",
   "nbconvert_exporter": "python",
   "pygments_lexer": "ipython3",
   "version": "3.13.2"
  }
 },
 "nbformat": 4,
 "nbformat_minor": 5
}

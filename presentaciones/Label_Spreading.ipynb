{
 "cells": [
  {
   "cell_type": "markdown",
   "id": "fa08384e-6440-46f2-9f4e-61f85a6d4b17",
   "metadata": {},
   "source": [
    "# Label Spreading\n",
    "\n",
    "**Label Spreading** es un algoritmo de **aprendizaje semi-supervisado basado en grafos**. Es una versión suavizada de [[Label Propagation]], que introduce regularización para hacer la propagación más estable y robusta ante errores en las etiquetas.\n",
    "\n",
    "---\n",
    "\n",
    "La idea central es que **puntos de datos similares deberían tener etiquetas similares**. Se parte de un conjunto pequeño de datos etiquetados y muchos sin etiquetar. Las etiquetas se propagan a través de un grafo de similitud, pero de forma más **controlada** que en **Label Propagation**.\n",
    "\n",
    "---\n",
    "\n",
    "## Fundamento teórico\n",
    "\n",
    "Dado un conjunto:\n",
    "\n",
    "$X = \\{x_1, x_2, ..., x_n\\}$\n",
    "- $X$: conjunto **total** de instancias (etiquetadas y no etiquetadas).\n",
    "- $L \\subset X$: subconjunto de $X$ con **etiquetas conocidas**.\n",
    "- $U$: subconjunto de $X$ **sin etiquetas**, es el **complemento de $L$ dentro de $X$**\n",
    "\n",
    "Se construye un grafo no dirigido $G = (V, E)$ con pesos de similitud entre nodos.\n",
    "- $V$ — Conjunto de vértices (nodos)\n",
    "- $E$ — Conjunto de aristas\n",
    "\n",
    "---\n",
    "\n",
    "## Matriz de similitud\n",
    "\n",
    "Se define la **matriz de similitud $W$** como:\n",
    "\n",
    "$$\n",
    "w_{ij} = \\exp\\left(-\\frac{\\|x_i - x_j\\|^2}{2\\sigma^2}\\right)\n",
    "$$\n",
    "\n",
    "También puede construirse con vecinos más cercanos [[K-Nearest Neighbors]].\n",
    "\n",
    "Luego se normaliza para obtener la **matriz de propagación $S$**:\n",
    "\n",
    "$$\n",
    "S = D^{-1/2} W D^{-1/2}\n",
    "$$\n",
    "\n",
    "Donde $D_{ii} = \\sum_j w_{ij}$ es la matriz diagonal de grados.\n",
    "\n",
    "---\n",
    "\n",
    "## Algoritmo\n",
    "\n",
    "Se inicia con:\n",
    "\n",
    "- Una matriz $Y$ que contiene las etiquetas conocidas (one-hot)\n",
    "- Una matriz $F$ que se actualizará en cada iteración\n",
    "\n",
    "La actualización sigue la regla:\n",
    "\n",
    "$$\n",
    "F_{t+1} = \\alpha S F_t + (1 - \\alpha) Y\n",
    "$$\n",
    "\n",
    "Donde:\n",
    "\n",
    "- $F_t$ es la matriz de etiquetas en el paso $t$\n",
    "- $\\alpha \\in (0, 1)$ es un parámetro de mezcla\n",
    "- $Y$ son las etiquetas iniciales\n",
    "\n",
    "Se itera hasta que $F$ converge.\n",
    "\n",
    "---\n",
    "\n",
    "## Parámetro $\\alpha$\n",
    "\n",
    "- Si $\\alpha \\approx 1$: se favorece la propagación\n",
    "- Si $\\alpha \\approx 0$: se conserva más la etiqueta original\n",
    "\n",
    "**Seudo-etiquetas**. A diferencia de **Label Propagation**, aquí las etiquetas originales no se fijan totalmente, sino que se permiten ajustes.\n",
    "\n",
    "---\n",
    "\n",
    "## Comparación con Label Propagation\n",
    "\n",
    "| Aspecto                        | Label Propagation       | Label Spreading           |\n",
    "|--------------------------------|--------------------------|----------------------------|\n",
    "| Fijación de etiquetas          | Sí                      | No                         |\n",
    "| Regularización                 | No                      | Sí                         |\n",
    "| Estabilidad                   | Menor                   | Mayor                      |\n",
    "| Ecuación                      | $F_{t+1} = T F_t$        | $F_{t+1} = \\alpha S F_t + (1 - \\alpha) Y$ |\n",
    "\n",
    "---\n",
    "\n",
    "## Ventajas\n",
    "\n",
    "- Mayor **estabilidad**\n",
    "- Robusto frente a **ruido en las etiquetas**\n",
    "- Ajustable vía parámetro $\\alpha$\n",
    "\n",
    "---\n",
    "\n",
    "## Limitaciones\n",
    "\n",
    "- Sigue siendo **transductivo** (no generaliza a nuevos datos)\n",
    "- Depende de la construcción del grafo\n",
    "- Necesita calibrar bien los hiperparámetros ($\\alpha$, kernel, vecinos, etc.)\n"
   ]
  },
  {
   "cell_type": "markdown",
   "id": "97a668ae-f026-486d-90ff-efbf0c2e64e9",
   "metadata": {},
   "source": [
    "## Ejemplo\n",
    "\n",
    "Nodos:\n",
    "\n",
    "| Nodo | Etiqueta inicial | \n",
    "|------|------------------|\n",
    "| A    | 0                |\n",
    "| B    | ?                |\n",
    "| C    | ?                | \n",
    "| D    | 1                | \n",
    "| E    | ?                | "
   ]
  },
  {
   "cell_type": "code",
   "execution_count": 1,
   "id": "8c4967ce-1f92-471d-99e8-315915b0ac8c",
   "metadata": {},
   "outputs": [],
   "source": [
    "import numpy as np\n",
    "import pandas as pd\n",
    "import matplotlib.pyplot as plt"
   ]
  },
  {
   "cell_type": "code",
   "execution_count": 2,
   "id": "43260cd6-016b-468a-8d86-9da904f9979c",
   "metadata": {},
   "outputs": [],
   "source": [
    "# Nombres de nodos\n",
    "nodos = ['A', 'B', 'C', 'D', 'E']\n",
    "\n",
    "# 1. Coordenadas de los puntos (2D)\n",
    "X = np.array([\n",
    "    [0.0, 1.0],  # A\n",
    "    [1.0, 1.0],  # B\n",
    "    [1.0, 0.0],  # C\n",
    "    [2.0, 1.0],  # D\n",
    "    [2.0, 0.0],  # E\n",
    "])\n",
    "\n",
    "# 2. Etiquetas iniciales (one-hot: 2 clases), -1 indica sin etiqueta\n",
    "# A -> clase 0, D -> clase 1\n",
    "Y = np.zeros((5, 2))\n",
    "Y[0, 0] = 1  # A\n",
    "Y[3, 1] = 1  # D"
   ]
  },
  {
   "cell_type": "code",
   "execution_count": 3,
   "id": "a162bdb5-1cb6-44cd-bbfc-75c3f7557e92",
   "metadata": {},
   "outputs": [
    {
     "data": {
      "image/png": "[encoded data removed]",
      "text/plain": [
       "<Figure size 600x500 with 1 Axes>"
      ]
     },
     "metadata": {},
     "output_type": "display_data"
    }
   ],
   "source": [
    "etiquetas_iniciales = np.array([0, -1, -1, 1, -1])\n",
    "colores = []\n",
    "for y in etiquetas_iniciales:\n",
    "    if y == 0:\n",
    "        colores.append('red')\n",
    "    elif y == 1:\n",
    "        colores.append('blue')\n",
    "    else:\n",
    "        colores.append('gray')\n",
    "\n",
    "# Graficar\n",
    "plt.figure(figsize=(6, 5))\n",
    "for i, nombre in enumerate(nodos):\n",
    "    plt.scatter(X[i, 0], X[i, 1], color=colores[i], s=200, edgecolor='black')\n",
    "    plt.text(X[i, 0] + 0.05, X[i, 1], nombre, fontsize=12, weight='bold')\n",
    "\n",
    "plt.title(\"Puntos de X con etiquetas iniciales\")\n",
    "plt.xlabel(\"X1\")\n",
    "plt.ylabel(\"X2\")\n",
    "plt.grid(True)\n",
    "plt.axis('equal')\n",
    "#plt.axis('off')\n",
    "plt.show()"
   ]
  },
  {
   "cell_type": "code",
   "execution_count": 4,
   "id": "7ac0b76b-7824-4359-a663-5d66b829f0bb",
   "metadata": {},
   "outputs": [],
   "source": [
    "# 3. Construcción de matriz de similitud con kernel Gaussiano\n",
    "sigma = 1.0\n",
    "n = X.shape[0]\n",
    "W = np.zeros((n, n))\n",
    "for i in range(n):\n",
    "    for j in range(n):\n",
    "        if i != j:\n",
    "            dist = np.linalg.norm(X[i] - X[j])\n",
    "            W[i, j] = np.exp(-dist**2 / (2 * sigma**2))"
   ]
  },
  {
   "cell_type": "code",
   "execution_count": 5,
   "id": "7d54367d-9f58-4734-9def-293f25c7bf41",
   "metadata": {},
   "outputs": [],
   "source": [
    "# 4. Matriz de grado y normalización simétrica\n",
    "D = np.diag(np.sum(W, axis=1))\n",
    "D_sqrt_inv = np.diag(1.0 / np.sqrt(np.sum(W, axis=1)))\n",
    "S = D_sqrt_inv @ W @ D_sqrt_inv"
   ]
  },
  {
   "cell_type": "code",
   "execution_count": 6,
   "id": "ab5b1c3a-0073-4b8f-971b-3ced92f4ec02",
   "metadata": {},
   "outputs": [],
   "source": [
    "# 5. Iteración de Label Spreading\n",
    "alpha = 0.8\n",
    "F = Y.copy()\n",
    "for _ in range(100):\n",
    "    F_new = alpha * S @ F + (1 - alpha) * Y\n",
    "    if np.allclose(F, F_new, atol=0.0001):\n",
    "        break\n",
    "    F = F_new"
   ]
  },
  {
   "cell_type": "code",
   "execution_count": 7,
   "id": "e066d971-2f00-483d-b7b6-d805cccc689b",
   "metadata": {},
   "outputs": [
    {
     "name": "stdout",
     "output_type": "stream",
     "text": [
      "  Nodo  Clase 0 (prob)  Clase 1 (prob)  Etiqueta predicha\n",
      "0    A        0.294851        0.122286                  0\n",
      "1    B        0.171862        0.187187                  1\n",
      "2    C        0.148086        0.168715                  1\n",
      "3    D        0.122286        0.333774                  1\n",
      "4    E        0.115310        0.175965                  1\n"
     ]
    }
   ],
   "source": [
    "# 6. Predicción final\n",
    "predicciones = np.argmax(F, axis=1)\n",
    "resultado = pd.DataFrame({\n",
    "    'Nodo': nodos,\n",
    "    'Clase 0 (prob)': F[:, 0],\n",
    "    'Clase 1 (prob)': F[:, 1],\n",
    "    'Etiqueta predicha': predicciones\n",
    "})\n",
    "\n",
    "print (resultado)"
   ]
  },
  {
   "cell_type": "code",
   "execution_count": null,
   "id": "429d31af-3da8-4c95-9817-1fe7e5996853",
   "metadata": {},
   "outputs": [],
   "source": []
  },
  {
   "cell_type": "markdown",
   "id": "5847c3fd-8b15-402d-9ccb-18520ef5ff91",
   "metadata": {},
   "source": [
    "## Paqueteria de Python que implementa Label Spreading"
   ]
  },
  {
   "cell_type": "code",
   "execution_count": 8,
   "id": "22522ec8-db9f-4978-8ebd-45555d7d2b97",
   "metadata": {},
   "outputs": [],
   "source": [
    "from sklearn.semi_supervised import LabelSpreading"
   ]
  },
  {
   "cell_type": "code",
   "execution_count": 13,
   "id": "a1ec96e9-095e-445e-945f-1d96509b64f5",
   "metadata": {},
   "outputs": [
    {
     "name": "stdout",
     "output_type": "stream",
     "text": [
      "Etiquetas predichas: [0 1 1 1 1]\n"
     ]
    },
    {
     "data": {
      "image/png": "[encoded data removed]",
      "text/plain": [
       "<Figure size 600x500 with 1 Axes>"
      ]
     },
     "metadata": {},
     "output_type": "display_data"
    }
   ],
   "source": [
    "import numpy as np\n",
    "import matplotlib.pyplot as plt\n",
    "from sklearn.semi_supervised import LabelSpreading\n",
    "\n",
    "# Datos del ejemplo (coordenadas de los nodos)\n",
    "X = np.array([\n",
    "    [0.0, 1.0],  # A\n",
    "    [1.0, 1.0],  # B\n",
    "    [1.0, 0.0],  # C\n",
    "    [2.0, 1.0],  # D\n",
    "    [2.0, 0.0],  # E\n",
    "])\n",
    "\n",
    "# Etiquetas: 0 para A, 1 para D, -1 para los demás\n",
    "y = np.array([0, -1, -1, 1, -1])\n",
    "\n",
    "# Crear y ajustar el modelo\n",
    "model = LabelSpreading(kernel='rbf', gamma=0.5, alpha=0.8, max_iter=1000)\n",
    "#model = LabelSpreading(kernel='knn', gamma=0.5, alpha=0.8, max_iter=1000)\n",
    "\n",
    "model.fit(X, y)\n",
    "\n",
    "# Etiquetas predichas\n",
    "predicted = model.transduction_\n",
    "\n",
    "print(\"Etiquetas predichas:\", predicted)\n",
    "\n",
    "# Graficar puntos con color según etiqueta predicha\n",
    "colors = ['red' if label==0 else 'blue' for label in predicted]\n",
    "labels_name = ['A', 'B', 'C', 'D', 'E']\n",
    "\n",
    "plt.figure(figsize=(6,5))\n",
    "for i, name in enumerate(labels_name):\n",
    "    plt.scatter(X[i, 0], X[i, 1], color=colors[i], s=200, edgecolor='black')\n",
    "    plt.text(X[i, 0]+0.05, X[i, 1], name, fontsize=12, weight='bold')\n",
    "plt.title(\"Label Spreading con sklearn (colores = etiquetas predichas)\")\n",
    "plt.xlabel(\"X1\")\n",
    "plt.ylabel(\"X2\")\n",
    "plt.grid(True)\n",
    "plt.axis('equal')\n",
    "plt.show()\n"
   ]
  },
  {
   "cell_type": "code",
   "execution_count": null,
   "id": "8e07b927-8000-4001-8d7c-5d36c376c226",
   "metadata": {},
   "outputs": [],
   "source": []
  }
 ],
 "metadata": {
  "kernelspec": {
   "display_name": "Python 3 (ipykernel)",
   "language": "python",
   "name": "python3"
  },
  "language_info": {
   "codemirror_mode": {
    "name": "ipython",
    "version": 3
   },
   "file_extension": ".py",
   "mimetype": "text/x-python",
   "name": "python",
   "nbconvert_exporter": "python",
   "pygments_lexer": "ipython3",
   "version": "3.13.3"
  }
 },
 "nbformat": 4,
 "nbformat_minor": 5
}

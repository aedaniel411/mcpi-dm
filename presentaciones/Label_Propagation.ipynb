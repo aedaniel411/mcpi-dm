{
 "cells": [
  {
   "cell_type": "markdown",
   "id": "24f4c6e7-88b4-4e99-a97b-81bb89ada37c",
   "metadata": {},
   "source": [
    "\n",
    "# Label Propagation\n",
    "\n",
    "---\n",
    "\n",
    "**Label Propagation** es un algoritmo de **aprendizaje semi-supervisado transductivo puro**, basado en grafos. Se utiliza cuando solo una parte de los datos está etiquetada, y se desea propagar estas etiquetas al resto mediante relaciones de similitud.\n",
    "\n",
    "---\n",
    "\n",
    "## Semi-supervisado\n",
    "\n",
    "Un **algoritmo de aprendizaje semi-supervisado** es un tipo de algoritmo de aprendizaje automático que se entrena usando:\n",
    "\n",
    "- Un pequeño conjunto de **datos etiquetados** (con su salida conocida). \n",
    "- Un conjunto mucho más grande de **datos no etiquetados**.\n",
    "\n",
    "---\n",
    "\n",
    "##  Transductivo puro\n",
    "\n",
    "Un algoritmo **transductivo puro**:\n",
    "\n",
    "- Solo **predice etiquetas** para datos dados en el entrenamiento\n",
    "- **No generaliza** a nuevos datos externos\n",
    "- No aprende una función de decisión como un clasificador tradicional\n",
    "\n",
    "---\n",
    "\n",
    "Label Propagation se basa en la **hipótesis de homofilia**: *los puntos de datos similares deberían tener etiquetas similares*. Para eso se construye un **grafo no dirigido** donde los nodos son datos y las aristas indican similitud.\n",
    "\n",
    "Label Propagation predice solo sobre nodos del grafo; no puede clasificar nuevos datos sin reconstruir el grafo completo.\n",
    "\n",
    "---\n",
    "\n",
    "## ¿Qué es un grafo no dirigido?\n",
    "\n",
    "Un **grafo no dirigido** es una estructura compuesta por:\n",
    "\n",
    "- **Nodos** (vértices): elementos conectados\n",
    "- **Aristas**: conexiones **sin dirección**, es decir, si $A$ está conectado con $B$, entonces $B$ también está conectado con $A$.\n",
    "\n",
    "Esto modela relaciones simétricas como amistad, cercanía, etc.\n",
    "\n",
    "---\n",
    "\n",
    "## Proceso teórico \n",
    "\n",
    "Dado un conjunto de datos:\n",
    "\n",
    "$X = \\{x_1, x_2, ..., x_n\\}$\n",
    "- $X$: conjunto **total** de instancias (etiquetadas y no etiquetadas).\n",
    "- $L \\subset X$: subconjunto de $X$ con **etiquetas conocidas**.\n",
    "- $U$: subconjunto de $X$ **sin etiquetas**, es el **complemento de $L$ dentro de $X$**\n",
    "\n",
    "Se construye un grafo no dirigido $G = (V, E)$, donde:\n",
    "\n",
    "- $V$ — Conjunto de vértices (nodos)\n",
    "- $E$ — Conjunto de aristas\n",
    "\n",
    "---\n",
    "\n",
    "## Algoritmo paso a paso\n",
    "\n",
    "1. **Inicializar** matriz de etiquetas $Y$, donde cada fila representa una clase (one-hot para etiquetados, ceros para no etiquetados).\n",
    "\n",
    "2. **Construir** matriz de transición $T = D^{-1}W$, donde $D$ es la matriz diagonal de grados.\n",
    "\n",
    "3. **Iterar**:\n",
    "\n",
    "$$\n",
    "F^{(t+1)} = T F^{(t)}\n",
    "$$\n",
    "\n",
    "4. En cada paso, **reestablecer etiquetas conocidas**:\n",
    "\n",
    "$$\n",
    "F_i = Y_i \\text{ para } i \\in L\n",
    "$$\n",
    "\n",
    "5. Repetir..\n",
    "\n",
    "6. Cada nodo se etiqueta con la clase de mayor valor en su fila de $F$.\n",
    "\n",
    "---\n",
    "\n",
    "## Ventajas\n",
    "\n",
    "- Usa datos no etiquetados eficazmente\n",
    "- Basado en similitud global\n",
    "- No requiere entrenamiento explícito\n",
    "\n",
    "---\n",
    "\n",
    "## Limitaciones\n",
    "\n",
    "- No puede clasificar nuevos datos (transductivo puro)\n",
    "- Sensible a la forma en que se construye el grafo\n",
    "- Puede amplificar ruido en etiquetas\n"
   ]
  },
  {
   "cell_type": "markdown",
   "id": "be77f160-c407-4363-8194-f0b652a7d6a9",
   "metadata": {},
   "source": [
    "## Ejemplo\n",
    "\n",
    "Nodos:\n",
    "\n",
    "| Nodo | Etiqueta inicial | Vecinos     |\n",
    "|------|------------------|-------------|\n",
    "| A    | 0                | B, C        |\n",
    "| B    | ?                | A, C, D     |\n",
    "| C    | ?                | A, B, E     |\n",
    "| D    | 1                | B, E        |\n",
    "| E    | ?                | C, D        |\n",
    "\n",
    "\n"
   ]
  },
  {
   "attachments": {
    "1902b8ca-d67c-455d-a86b-81ae0cfef45a.png": {
     "image/png": "[encoded data removed]"
    }
   },
   "cell_type": "markdown",
   "id": "d1eff5ea-1ba4-4d4a-9aae-d5432568da11",
   "metadata": {},
   "source": [
    "![img1.png](attachment:1902b8ca-d67c-455d-a86b-81ae0cfef45a.png)"
   ]
  },
  {
   "cell_type": "code",
   "execution_count": 30,
   "id": "ef8af4e9-b55a-4194-a620-7a82e4b25ec3",
   "metadata": {},
   "outputs": [],
   "source": [
    "# Librerias\n",
    "import numpy as np\n",
    "import matplotlib.pyplot as plt\n",
    "\n",
    "# Definimos los nodos y sus posiciones\n",
    "nodes = ['A', 'B', 'C', 'D', 'E']\n",
    "labels = {'A': 0, 'B': None, 'C': None, 'D': 1, 'E': None}\n",
    "\n",
    "# Matriz de adyacencia no ponderada (grafo no dirigido)\n",
    "#     A  B  C  D  E\n",
    "W = np.array([\n",
    "    [0, 1, 1, 0, 0],  # A\n",
    "    [1, 0, 1, 1, 0],  # B\n",
    "    [1, 1, 0, 0, 1],  # C\n",
    "    [0, 1, 0, 0, 1],  # D\n",
    "    [0, 0, 1, 1, 0],  # E\n",
    "])\n",
    "\n",
    "# W.sum(axis=1) # Vecinos, matriz diagonal de grados\n",
    "\n"
   ]
  },
  {
   "cell_type": "markdown",
   "id": "e1f1ead8-164b-41e0-bdc6-bad202db1916",
   "metadata": {},
   "source": [
    "## Algoritmo \n",
    "\n",
    "1. **Inicializar** matriz de etiquetas $Y$, donde cada fila representa una clase (one-hot para etiquetados, ceros para no etiquetados)."
   ]
  },
  {
   "cell_type": "code",
   "execution_count": 14,
   "id": "883af228-632a-428e-859c-48c96cda3ea7",
   "metadata": {},
   "outputs": [
    {
     "name": "stdout",
     "output_type": "stream",
     "text": [
      "[[1. 0.]\n",
      " [0. 0.]\n",
      " [0. 0.]\n",
      " [0. 1.]\n",
      " [0. 0.]]\n"
     ]
    }
   ],
   "source": [
    "# Matriz de etiquetas iniciales (2 clases: 0 y 1)\n",
    "Y = np.zeros((5, 2))\n",
    "Y[0, 0] = 1  # A\n",
    "Y[3, 1] = 1  # D\n",
    "\n",
    "print(Y)"
   ]
  },
  {
   "cell_type": "markdown",
   "id": "a977550f-03e6-44f8-a262-20f5d32f7cf5",
   "metadata": {},
   "source": [
    "2. **Construir** matriz de transición $T = D^{-1}W$, donde $D$ es la matriz diagonal de grados."
   ]
  },
  {
   "cell_type": "code",
   "execution_count": 16,
   "id": "fbff1a25-47f3-492e-a75a-29f46952cb8f",
   "metadata": {},
   "outputs": [
    {
     "name": "stdout",
     "output_type": "stream",
     "text": [
      "[[0.5        0.         0.         0.         0.        ]\n",
      " [0.         0.33333333 0.         0.         0.        ]\n",
      " [0.         0.         0.33333333 0.         0.        ]\n",
      " [0.         0.         0.         0.5        0.        ]\n",
      " [0.         0.         0.         0.         0.5       ]]\n",
      "\n",
      "[[0.         0.5        0.5        0.         0.        ]\n",
      " [0.33333333 0.         0.33333333 0.33333333 0.        ]\n",
      " [0.33333333 0.33333333 0.         0.         0.33333333]\n",
      " [0.         0.5        0.         0.         0.5       ]\n",
      " [0.         0.         0.5        0.5        0.        ]]\n"
     ]
    }
   ],
   "source": [
    "# Normalizamos la matriz W para obtener la matriz de transición T\n",
    "D_inv = np.diag(1 / W.sum(axis=1))\n",
    "T = D_inv @ W\n",
    "\n",
    "print(T)"
   ]
  },
  {
   "cell_type": "markdown",
   "id": "0a073499-0bb5-4312-80b7-72abe6da39e0",
   "metadata": {},
   "source": [
    "3. **Iterar**:\n",
    "\n",
    "$$\n",
    "F^{(t+1)} = T F^{(t)}\n",
    "$$\n",
    "\n",
    "4. En cada paso, **reestablecer etiquetas conocidas**:\n",
    "\n",
    "$$\n",
    "F_i = Y_i \\text{ para } i \\in L\n",
    "$$\n",
    "\n",
    "5. Repetir hasta que $F$ **converja**."
   ]
  },
  {
   "cell_type": "code",
   "execution_count": 21,
   "id": "16148baa-d71e-4174-9396-f5a9bb880e18",
   "metadata": {},
   "outputs": [],
   "source": [
    "# Matriz F inicial\n",
    "F = Y.copy()\n",
    "\n",
    "# Para mantener etiquetas conocidas fijas\n",
    "fixed = [0, 3]\n",
    "\n",
    "# Iteración de propagación\n",
    "history = [F.copy()]\n",
    "for _ in range(10):\n",
    "    F_new = T @ F\n",
    "    for i in fixed:\n",
    "        F_new[i] = Y[i]\n",
    "    if np.allclose(F, F_new, atol=0.00001):\n",
    "        break\n",
    "    F = F_new\n",
    "    history.append(F.copy())"
   ]
  },
  {
   "cell_type": "markdown",
   "id": "f80a6a6f-d35f-466a-b8a3-cb42d8a03c90",
   "metadata": {},
   "source": [
    "6. Cada nodo se etiqueta con la clase de mayor valor en su fila de $F$."
   ]
  },
  {
   "cell_type": "code",
   "execution_count": 22,
   "id": "b989cb3f-eaac-4599-9c92-fe04917ee78e",
   "metadata": {},
   "outputs": [
    {
     "name": "stdout",
     "output_type": "stream",
     "text": [
      "[[1.         0.        ]\n",
      " [0.53790178 0.46077516]\n",
      " [0.61436688 0.3839793 ]\n",
      " [0.         1.        ]\n",
      " [0.30685268 0.69116274]]\n"
     ]
    }
   ],
   "source": [
    "print (F)"
   ]
  },
  {
   "cell_type": "code",
   "execution_count": 25,
   "id": "81ad6390-fda7-4e9f-b3b6-4cbab1b97730",
   "metadata": {},
   "outputs": [
    {
     "name": "stdout",
     "output_type": "stream",
     "text": [
      "  Nodo  Clase 0 (prob)  Clase 1 (prob)  Etiqueta predicha\n",
      "0    A        1.000000        0.000000                  0\n",
      "1    B        0.537902        0.460775                  0\n",
      "2    C        0.614367        0.383979                  0\n",
      "3    D        0.000000        1.000000                  1\n",
      "4    E        0.306853        0.691163                  1\n"
     ]
    }
   ],
   "source": [
    "import pandas as pd\n",
    "\n",
    "# Crear DataFrame final con etiquetas predichas\n",
    "final_labels = np.argmax(F, axis=1)\n",
    "df_labels = pd.DataFrame({\n",
    "    'Nodo': nodes,\n",
    "    'Clase 0 (prob)': F[:, 0],\n",
    "    'Clase 1 (prob)': F[:, 1],\n",
    "    'Etiqueta predicha': final_labels\n",
    "})\n",
    "\n",
    "print (df_labels)"
   ]
  },
  {
   "cell_type": "markdown",
   "id": "4a8cf17e-1ef8-498c-9795-9be4307d349f",
   "metadata": {},
   "source": [
    "Iterando sobre las conexiones, la etiqueta se propaga hasta que todos los nodos se etiquetan:\n",
    "\n",
    "| Nodo | Etiqueta final |\n",
    "|------|----------------|\n",
    "| A    | 0              |\n",
    "| B    | 0              |\n",
    "| C    | 0              |\n",
    "| D    | 1              |\n",
    "| E    | 1              |"
   ]
  },
  {
   "cell_type": "markdown",
   "id": "83ea8e0b-67a1-4136-89b6-bacb803ca0ac",
   "metadata": {},
   "source": [
    "## Paqueteria de Python que implementa Label Propagation\n",
    "\n"
   ]
  },
  {
   "cell_type": "code",
   "execution_count": 27,
   "id": "d326827e-2823-4848-83d5-95b67dee6aad",
   "metadata": {},
   "outputs": [],
   "source": [
    "from sklearn.semi_supervised import LabelPropagation"
   ]
  },
  {
   "cell_type": "code",
   "execution_count": 29,
   "id": "173c1b62-35a8-4265-a859-bafb16b58fe7",
   "metadata": {},
   "outputs": [
    {
     "name": "stdout",
     "output_type": "stream",
     "text": [
      "  Nodo Etiqueta inicial  Etiqueta predicha\n",
      "0    A                0                  0\n",
      "1    B                ?                  0\n",
      "2    C                ?                  0\n",
      "3    D                1                  1\n",
      "4    E                ?                  0\n"
     ]
    }
   ],
   "source": [
    "from sklearn.preprocessing import LabelEncoder\n",
    "\n",
    "# Datos del ejemplo: características ficticias para nodos A–E\n",
    "# Creamos 2D embeddings arbitrarios para visualización y ejemplo\n",
    "X = np.array([\n",
    "    [0.0, 1.0],  # A\n",
    "    [1.0, 1.0],  # B\n",
    "    [1.0, 0.0],  # C\n",
    "    [2.0, 1.0],  # D\n",
    "    [2.0, 0.0],  # E\n",
    "])\n",
    "\n",
    "# Etiquetas iniciales (-1 = desconocida)\n",
    "# A = 0, B = ?, C = ?, D = 1, E = ?\n",
    "y = np.array([0, -1, -1, 1, -1])\n",
    "\n",
    "# Entrenamos el modelo\n",
    "model = LabelPropagation(kernel='knn', n_neighbors=2)\n",
    "model.fit(X, y)\n",
    "\n",
    "# Resultados\n",
    "predicted_labels = model.transduction_\n",
    "\n",
    "# Formato de salida\n",
    "df_resultado = pd.DataFrame({\n",
    "    'Nodo': ['A', 'B', 'C', 'D', 'E'],\n",
    "    'Etiqueta inicial': ['0', '?', '?', '1', '?'],\n",
    "    'Etiqueta predicha': predicted_labels\n",
    "})\n",
    "\n",
    "print(df_resultado)"
   ]
  },
  {
   "cell_type": "code",
   "execution_count": null,
   "id": "1abf8875-00c9-48f7-bc4f-666a543a8c60",
   "metadata": {},
   "outputs": [],
   "source": []
  }
 ],
 "metadata": {
  "kernelspec": {
   "display_name": "Python 3 (ipykernel)",
   "language": "python",
   "name": "python3"
  },
  "language_info": {
   "codemirror_mode": {
    "name": "ipython",
    "version": 3
   },
   "file_extension": ".py",
   "mimetype": "text/x-python",
   "name": "python",
   "nbconvert_exporter": "python",
   "pygments_lexer": "ipython3",
   "version": "3.13.3"
  }
 },
 "nbformat": 4,
 "nbformat_minor": 5
}
